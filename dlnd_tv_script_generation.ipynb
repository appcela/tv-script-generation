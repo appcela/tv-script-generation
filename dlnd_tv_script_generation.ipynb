{
  "nbformat": 4,
  "nbformat_minor": 0,
  "metadata": {
    "colab": {
      "name": "dlnd_tv_script_generation.ipynb",
      "version": "0.3.2",
      "provenance": [],
      "collapsed_sections": []
    },
    "language_info": {
      "codemirror_mode": {
        "name": "ipython",
        "version": 3
      },
      "file_extension": ".py",
      "mimetype": "text/x-python",
      "name": "python",
      "nbconvert_exporter": "python",
      "pygments_lexer": "ipython3",
      "version": "3.6.3"
    },
    "kernelspec": {
      "name": "python3",
      "display_name": "Python 3"
    },
    "accelerator": "GPU"
  },
  "cells": [
    {
      "cell_type": "markdown",
      "metadata": {
        "id": "jM9cho5lZdf-",
        "colab_type": "text"
      },
      "source": [
        "# TV Script Generation\n",
        "\n",
        "In this project, you'll generate your own [Seinfeld](https://en.wikipedia.org/wiki/Seinfeld) TV scripts using RNNs.  You'll be using part of the [Seinfeld dataset](https://www.kaggle.com/thec03u5/seinfeld-chronicles#scripts.csv) of scripts from 9 seasons.  The Neural Network you'll build will generate a new ,\"fake\" TV script, based on patterns it recognizes in this training data.\n",
        "\n",
        "## Get the Data\n",
        "\n",
        "The data is already provided for you in `./data/Seinfeld_Scripts.txt` and you're encouraged to open that file and look at the text. \n",
        ">* As a first step, we'll load in this data and look at some samples. \n",
        "* Then, you'll be tasked with defining and training an RNN to generate a new script!"
      ]
    },
    {
      "cell_type": "code",
      "metadata": {
        "id": "BlvJSFb0HS4W",
        "colab_type": "code",
        "colab": {}
      },
      "source": [
        "# Enable CUDA error stack trace\n",
        "import os\n",
        "os.environ['CUDA_LAUNCH_BLOCKING'] = \"1\""
      ],
      "execution_count": 0,
      "outputs": []
    },
    {
      "cell_type": "code",
      "metadata": {
        "id": "OiLWMrBbtKVC",
        "colab_type": "code",
        "outputId": "a5838928-1d26-4a52-9196-f620fd1cce45",
        "colab": {
          "base_uri": "https://localhost:8080/",
          "height": 392
        }
      },
      "source": [
        "import torch \n",
        "print(f'torch version = {torch.__version__}')\n",
        "print(f'cudnn version = {torch.backends.cudnn.version()}')\n",
        "print(f'cuda version = {torch.version.cuda}')\n",
        "\n",
        "!nvidia-smi"
      ],
      "execution_count": 2,
      "outputs": [
        {
          "output_type": "stream",
          "text": [
            "torch version = 1.1.0\n",
            "cudnn version = 7501\n",
            "cuda version = 10.0.130\n",
            "Sun May 19 06:08:21 2019       \n",
            "+-----------------------------------------------------------------------------+\n",
            "| NVIDIA-SMI 418.67       Driver Version: 410.79       CUDA Version: 10.0     |\n",
            "|-------------------------------+----------------------+----------------------+\n",
            "| GPU  Name        Persistence-M| Bus-Id        Disp.A | Volatile Uncorr. ECC |\n",
            "| Fan  Temp  Perf  Pwr:Usage/Cap|         Memory-Usage | GPU-Util  Compute M. |\n",
            "|===============================+======================+======================|\n",
            "|   0  Tesla T4            Off  | 00000000:00:04.0 Off |                    0 |\n",
            "| N/A   68C    P8    17W /  70W |      0MiB / 15079MiB |      0%      Default |\n",
            "+-------------------------------+----------------------+----------------------+\n",
            "                                                                               \n",
            "+-----------------------------------------------------------------------------+\n",
            "| Processes:                                                       GPU Memory |\n",
            "|  GPU       PID   Type   Process name                             Usage      |\n",
            "|=============================================================================|\n",
            "|  No running processes found                                                 |\n",
            "+-----------------------------------------------------------------------------+\n"
          ],
          "name": "stdout"
        }
      ]
    },
    {
      "cell_type": "code",
      "metadata": {
        "id": "3k2G65lfiPEO",
        "colab_type": "code",
        "outputId": "ce94b785-34d3-498f-8df5-059f629e5b00",
        "colab": {
          "base_uri": "https://localhost:8080/",
          "height": 516
        }
      },
      "source": [
        "!mkdir -p data\n",
        "!wget https://github.com/udacity/deep-learning-v2-pytorch/raw/master/project-tv-script-generation/data/Seinfeld_Scripts.txt -P data/\n",
        "!ls -al data/  "
      ],
      "execution_count": 3,
      "outputs": [
        {
          "output_type": "stream",
          "text": [
            "--2019-05-19 06:08:24--  https://github.com/udacity/deep-learning-v2-pytorch/raw/master/project-tv-script-generation/data/Seinfeld_Scripts.txt\n",
            "Resolving github.com (github.com)... 192.30.253.113\n",
            "Connecting to github.com (github.com)|192.30.253.113|:443... connected.\n",
            "HTTP request sent, awaiting response... 302 Found\n",
            "Location: https://raw.githubusercontent.com/udacity/deep-learning-v2-pytorch/master/project-tv-script-generation/data/Seinfeld_Scripts.txt [following]\n",
            "--2019-05-19 06:08:25--  https://raw.githubusercontent.com/udacity/deep-learning-v2-pytorch/master/project-tv-script-generation/data/Seinfeld_Scripts.txt\n",
            "Resolving raw.githubusercontent.com (raw.githubusercontent.com)... 151.101.0.133, 151.101.64.133, 151.101.128.133, ...\n",
            "Connecting to raw.githubusercontent.com (raw.githubusercontent.com)|151.101.0.133|:443... connected.\n",
            "HTTP request sent, awaiting response... 200 OK\n",
            "Length: 3471475 (3.3M) [text/plain]\n",
            "Saving to: ‘data/Seinfeld_Scripts.txt.7’\n",
            "\n",
            "Seinfeld_Scripts.tx 100%[===================>]   3.31M  --.-KB/s    in 0.09s   \n",
            "\n",
            "2019-05-19 06:08:25 (37.0 MB/s) - ‘data/Seinfeld_Scripts.txt.7’ saved [3471475/3471475]\n",
            "\n",
            "total 27144\n",
            "drwxr-xr-x 2 root root    4096 May 19 06:08 .\n",
            "drwxr-xr-x 1 root root    4096 May 19 05:52 ..\n",
            "-rw-r--r-- 1 root root 3471475 May 19 00:07 Seinfeld_Scripts.txt\n",
            "-rw-r--r-- 1 root root 3471475 May 19 01:03 Seinfeld_Scripts.txt.1\n",
            "-rw-r--r-- 1 root root 3471475 May 19 02:03 Seinfeld_Scripts.txt.2\n",
            "-rw-r--r-- 1 root root 3471475 May 19 02:53 Seinfeld_Scripts.txt.3\n",
            "-rw-r--r-- 1 root root 3471475 May 19 03:09 Seinfeld_Scripts.txt.4\n",
            "-rw-r--r-- 1 root root 3471475 May 19 04:08 Seinfeld_Scripts.txt.5\n",
            "-rw-r--r-- 1 root root 3471475 May 19 05:52 Seinfeld_Scripts.txt.6\n",
            "-rw-r--r-- 1 root root 3471475 May 19 06:08 Seinfeld_Scripts.txt.7\n"
          ],
          "name": "stdout"
        }
      ]
    },
    {
      "cell_type": "code",
      "metadata": {
        "id": "onBpaeG0mc33",
        "colab_type": "code",
        "outputId": "c08edb9a-b95d-4483-a766-09794c276899",
        "colab": {
          "base_uri": "https://localhost:8080/",
          "height": 605
        }
      },
      "source": [
        "!wget https://github.com/udacity/deep-learning-v2-pytorch/raw/master/project-tv-script-generation/helper.py\n",
        "!wget https://github.com/udacity/deep-learning-v2-pytorch/raw/master/project-tv-script-generation/problem_unittests.py  "
      ],
      "execution_count": 4,
      "outputs": [
        {
          "output_type": "stream",
          "text": [
            "--2019-05-19 06:08:28--  https://github.com/udacity/deep-learning-v2-pytorch/raw/master/project-tv-script-generation/helper.py\n",
            "Resolving github.com (github.com)... 192.30.253.113\n",
            "Connecting to github.com (github.com)|192.30.253.113|:443... connected.\n",
            "HTTP request sent, awaiting response... 302 Found\n",
            "Location: https://raw.githubusercontent.com/udacity/deep-learning-v2-pytorch/master/project-tv-script-generation/helper.py [following]\n",
            "--2019-05-19 06:08:29--  https://raw.githubusercontent.com/udacity/deep-learning-v2-pytorch/master/project-tv-script-generation/helper.py\n",
            "Resolving raw.githubusercontent.com (raw.githubusercontent.com)... 151.101.0.133, 151.101.64.133, 151.101.128.133, ...\n",
            "Connecting to raw.githubusercontent.com (raw.githubusercontent.com)|151.101.0.133|:443... connected.\n",
            "HTTP request sent, awaiting response... 200 OK\n",
            "Length: 1407 (1.4K) [text/plain]\n",
            "Saving to: ‘helper.py.7’\n",
            "\n",
            "\rhelper.py.7           0%[                    ]       0  --.-KB/s               \rhelper.py.7         100%[===================>]   1.37K  --.-KB/s    in 0s      \n",
            "\n",
            "2019-05-19 06:08:29 (183 MB/s) - ‘helper.py.7’ saved [1407/1407]\n",
            "\n",
            "--2019-05-19 06:08:30--  https://github.com/udacity/deep-learning-v2-pytorch/raw/master/project-tv-script-generation/problem_unittests.py\n",
            "Resolving github.com (github.com)... 192.30.253.113\n",
            "Connecting to github.com (github.com)|192.30.253.113|:443... connected.\n",
            "HTTP request sent, awaiting response... 302 Found\n",
            "Location: https://raw.githubusercontent.com/udacity/deep-learning-v2-pytorch/master/project-tv-script-generation/problem_unittests.py [following]\n",
            "--2019-05-19 06:08:30--  https://raw.githubusercontent.com/udacity/deep-learning-v2-pytorch/master/project-tv-script-generation/problem_unittests.py\n",
            "Resolving raw.githubusercontent.com (raw.githubusercontent.com)... 151.101.0.133, 151.101.64.133, 151.101.128.133, ...\n",
            "Connecting to raw.githubusercontent.com (raw.githubusercontent.com)|151.101.0.133|:443... connected.\n",
            "HTTP request sent, awaiting response... 200 OK\n",
            "Length: 10060 (9.8K) [text/plain]\n",
            "Saving to: ‘problem_unittests.py.7’\n",
            "\n",
            "problem_unittests.p 100%[===================>]   9.82K  --.-KB/s    in 0s      \n",
            "\n",
            "2019-05-19 06:08:30 (89.1 MB/s) - ‘problem_unittests.py.7’ saved [10060/10060]\n",
            "\n"
          ],
          "name": "stdout"
        }
      ]
    },
    {
      "cell_type": "code",
      "metadata": {
        "id": "gxuYjgH1ZdgA",
        "colab_type": "code",
        "colab": {}
      },
      "source": [
        "\"\"\"\n",
        "DON'T MODIFY ANYTHING IN THIS CELL\n",
        "\"\"\"\n",
        "# load in data\n",
        "import helper\n",
        "data_dir = './data/Seinfeld_Scripts.txt'\n",
        "text = helper.load_data(data_dir)"
      ],
      "execution_count": 0,
      "outputs": []
    },
    {
      "cell_type": "markdown",
      "metadata": {
        "id": "1FB5_qsGZdgE",
        "colab_type": "text"
      },
      "source": [
        "## Explore the Data\n",
        "Play around with `view_line_range` to view different parts of the data. This will give you a sense of the data you'll be working with. You can see, for example, that it is all lowercase text, and each new line of dialogue is separated by a newline character `\\n`."
      ]
    },
    {
      "cell_type": "code",
      "metadata": {
        "id": "gS-WA6dGZdgF",
        "colab_type": "code",
        "outputId": "fc19eabf-7ebc-4403-e791-b4429991a6de",
        "colab": {
          "base_uri": "https://localhost:8080/",
          "height": 321
        }
      },
      "source": [
        "view_line_range = (20, 30)\n",
        "\n",
        "\"\"\"\n",
        "DON'T MODIFY ANYTHING IN THIS CELL THAT IS BELOW THIS LINE\n",
        "\"\"\"\n",
        "import numpy as np\n",
        "\n",
        "print('Dataset Stats')\n",
        "print('Roughly the number of unique words: {}'.format(len({word: None for word in text.split()})))\n",
        "\n",
        "lines = text.split('\\n')\n",
        "print('Number of lines: {}'.format(len(lines)))\n",
        "word_count_line = [len(line.split()) for line in lines]\n",
        "print('Average number of words in each line: {}'.format(np.average(word_count_line)))\n",
        "\n",
        "print()\n",
        "print('The lines {} to {}:'.format(*view_line_range))\n",
        "print('\\n'.join(text.split('\\n')[view_line_range[0]:view_line_range[1]]))"
      ],
      "execution_count": 6,
      "outputs": [
        {
          "output_type": "stream",
          "text": [
            "Dataset Stats\n",
            "Roughly the number of unique words: 46367\n",
            "Number of lines: 109233\n",
            "Average number of words in each line: 5.544240293684143\n",
            "\n",
            "The lines 20 to 30:\n",
            "claire: its missing, i have to do it in my head decaf left, regular right, decaf left, regular right...its very challenging work. \n",
            "\n",
            "jerry: can you relax, its a cup of coffee. claire is a professional waitress. \n",
            "\n",
            "claire: trust me george. no one has any interest in seeing you on caffeine. \n",
            "\n",
            "george: how come youre not doing the second show tomorrow? \n",
            "\n",
            "jerry: well, theres this uh, woman might be coming in. \n",
            "\n"
          ],
          "name": "stdout"
        }
      ]
    },
    {
      "cell_type": "markdown",
      "metadata": {
        "id": "kWqJJU0zZdgI",
        "colab_type": "text"
      },
      "source": [
        "---\n",
        "## Implement Pre-processing Functions\n",
        "The first thing to do to any dataset is pre-processing.  Implement the following pre-processing functions below:\n",
        "- Lookup Table\n",
        "- Tokenize Punctuation\n",
        "\n",
        "### Lookup Table\n",
        "To create a word embedding, you first need to transform the words to ids.  In this function, create two dictionaries:\n",
        "- Dictionary to go from the words to an id, we'll call `vocab_to_int`\n",
        "- Dictionary to go from the id to word, we'll call `int_to_vocab`\n",
        "\n",
        "Return these dictionaries in the following **tuple** `(vocab_to_int, int_to_vocab)`"
      ]
    },
    {
      "cell_type": "code",
      "metadata": {
        "id": "4JDzVRzvZdgI",
        "colab_type": "code",
        "outputId": "ad541713-e16d-4a7d-b0ec-3cc240abae71",
        "colab": {
          "base_uri": "https://localhost:8080/",
          "height": 34
        }
      },
      "source": [
        "import problem_unittests as tests\n",
        "from collections import Counter\n",
        "\n",
        "def create_lookup_tables(text):\n",
        "    \"\"\"\n",
        "    Create lookup tables for vocabulary\n",
        "    :param text: The text of tv scripts split into words\n",
        "    :return: A tuple of dicts (vocab_to_int, int_to_vocab)\n",
        "    \"\"\"\n",
        "    # DONE: Implement Function\n",
        "    words_counter = Counter(text).most_common()\n",
        "    vocab_to_int = {word: i for i, (word, _) in enumerate(words_counter)}\n",
        "    int_to_vocab = {i: word for word, i in vocab_to_int.items()}\n",
        "    # return tuple\n",
        "    return (vocab_to_int, int_to_vocab)\n",
        "\n",
        "\n",
        "\"\"\"\n",
        "DON'T MODIFY ANYTHING IN THIS CELL THAT IS BELOW THIS LINE\n",
        "\"\"\"\n",
        "tests.test_create_lookup_tables(create_lookup_tables)"
      ],
      "execution_count": 7,
      "outputs": [
        {
          "output_type": "stream",
          "text": [
            "Tests Passed\n"
          ],
          "name": "stdout"
        }
      ]
    },
    {
      "cell_type": "markdown",
      "metadata": {
        "id": "U50jnN_9ZdgL",
        "colab_type": "text"
      },
      "source": [
        "### Tokenize Punctuation\n",
        "We'll be splitting the script into a word array using spaces as delimiters.  However, punctuations like periods and exclamation marks can create multiple ids for the same word. For example, \"bye\" and \"bye!\" would generate two different word ids.\n",
        "\n",
        "Implement the function `token_lookup` to return a dict that will be used to tokenize symbols like \"!\" into \"||Exclamation_Mark||\".  Create a dictionary for the following symbols where the symbol is the key and value is the token:\n",
        "- Period ( **.** )\n",
        "- Comma ( **,** )\n",
        "- Quotation Mark ( **\"** )\n",
        "- Semicolon ( **;** )\n",
        "- Exclamation mark ( **!** )\n",
        "- Question mark ( **?** )\n",
        "- Left Parentheses ( **(** )\n",
        "- Right Parentheses ( **)** )\n",
        "- Dash ( **-** )\n",
        "- Return ( **\\n** )\n",
        "\n",
        "This dictionary will be used to tokenize the symbols and add the delimiter (space) around it.  This separates each symbols as its own word, making it easier for the neural network to predict the next word. Make sure you don't use a value that could be confused as a word; for example, instead of using the value \"dash\", try using something like \"||dash||\"."
      ]
    },
    {
      "cell_type": "code",
      "metadata": {
        "id": "x-Kvck3GZdgL",
        "colab_type": "code",
        "outputId": "7fc4a6c6-5627-47c3-a851-d793616a03d6",
        "colab": {
          "base_uri": "https://localhost:8080/",
          "height": 34
        }
      },
      "source": [
        "def token_lookup():\n",
        "    \"\"\"\n",
        "    Generate a dict to turn punctuation into a token.\n",
        "    :return: Tokenized dictionary where the key is the punctuation and the value is the token\n",
        "    \"\"\"\n",
        "    # DONE: Implement Function\n",
        "    punc_to_token = {\n",
        "        '.': '||Period||',\n",
        "        ',': '||Comma||',\n",
        "        '\"': '||Quotation_Mark||',\n",
        "        ';': '||Semicolon||',\n",
        "        '!': '||Exclamation_Mark||',\n",
        "        '?': '||Question_Mark||',\n",
        "        '(': '||Left_Parentheses||',\n",
        "        ')': '||Right_Parentheses||',\n",
        "        '-': '||Dash||',\n",
        "        '\\n': '||Return||'\n",
        "        \n",
        "    }\n",
        "        \n",
        "    return punc_to_token\n",
        "\n",
        "\"\"\"\n",
        "DON'T MODIFY ANYTHING IN THIS CELL THAT IS BELOW THIS LINE\n",
        "\"\"\"\n",
        "tests.test_tokenize(token_lookup)"
      ],
      "execution_count": 8,
      "outputs": [
        {
          "output_type": "stream",
          "text": [
            "Tests Passed\n"
          ],
          "name": "stdout"
        }
      ]
    },
    {
      "cell_type": "markdown",
      "metadata": {
        "id": "0NTShQZqZdgP",
        "colab_type": "text"
      },
      "source": [
        "## Pre-process all the data and save it\n",
        "\n",
        "Running the code cell below will pre-process all the data and save it to file. You're encouraged to lok at the code for `preprocess_and_save_data` in the `helpers.py` file to see what it's doing in detail, but you do not need to change this code."
      ]
    },
    {
      "cell_type": "code",
      "metadata": {
        "id": "Mt78gdgHZdgQ",
        "colab_type": "code",
        "colab": {}
      },
      "source": [
        "\"\"\"\n",
        "DON'T MODIFY ANYTHING IN THIS CELL\n",
        "\"\"\"\n",
        "# pre-process training data\n",
        "helper.preprocess_and_save_data(data_dir, token_lookup, create_lookup_tables)"
      ],
      "execution_count": 0,
      "outputs": []
    },
    {
      "cell_type": "markdown",
      "metadata": {
        "id": "Yxym15RBZdgU",
        "colab_type": "text"
      },
      "source": [
        "# Check Point\n",
        "This is your first checkpoint. If you ever decide to come back to this notebook or have to restart the notebook, you can start from here. The preprocessed data has been saved to disk."
      ]
    },
    {
      "cell_type": "code",
      "metadata": {
        "id": "CxOrqr9FZdgU",
        "colab_type": "code",
        "colab": {}
      },
      "source": [
        "\"\"\"\n",
        "DON'T MODIFY ANYTHING IN THIS CELL\n",
        "\"\"\"\n",
        "import helper\n",
        "import problem_unittests as tests\n",
        "\n",
        "int_text, vocab_to_int, int_to_vocab, token_dict = helper.load_preprocess()"
      ],
      "execution_count": 0,
      "outputs": []
    },
    {
      "cell_type": "code",
      "metadata": {
        "id": "RPCumvh3OBxJ",
        "colab_type": "code",
        "colab": {
          "base_uri": "https://localhost:8080/",
          "height": 70
        },
        "outputId": "9ec8879b-5bd5-4d0c-861e-f249de3b836d"
      },
      "source": [
        "print(f'int_text={len(int_text)}')\n",
        "print(f'vocab_to_int={len(vocab_to_int)}')\n",
        "print(f'int_to_vocab={len(int_to_vocab)}')"
      ],
      "execution_count": 11,
      "outputs": [
        {
          "output_type": "stream",
          "text": [
            "int_text=892110\n",
            "vocab_to_int=21388\n",
            "int_to_vocab=21388\n"
          ],
          "name": "stdout"
        }
      ]
    },
    {
      "cell_type": "markdown",
      "metadata": {
        "id": "o67usW77ZdgX",
        "colab_type": "text"
      },
      "source": [
        "## Build the Neural Network\n",
        "In this section, you'll build the components necessary to build an RNN by implementing the RNN Module and forward and backpropagation functions.\n",
        "\n",
        "### Check Access to GPU"
      ]
    },
    {
      "cell_type": "code",
      "metadata": {
        "id": "_uwhITQJZdga",
        "colab_type": "code",
        "colab": {}
      },
      "source": [
        "\"\"\"\n",
        "DON'T MODIFY ANYTHING IN THIS CELL\n",
        "\"\"\"\n",
        "import torch\n",
        "\n",
        "# Check for a GPU\n",
        "train_on_gpu = torch.cuda.is_available()\n",
        "if not train_on_gpu:\n",
        "    print('No GPU found. Please use a GPU to train your neural network.')"
      ],
      "execution_count": 0,
      "outputs": []
    },
    {
      "cell_type": "markdown",
      "metadata": {
        "id": "0P4xgk-hZdgc",
        "colab_type": "text"
      },
      "source": [
        "## Input\n",
        "Let's start with the preprocessed input data. We'll use [TensorDataset](http://pytorch.org/docs/master/data.html#torch.utils.data.TensorDataset) to provide a known format to our dataset; in combination with [DataLoader](http://pytorch.org/docs/master/data.html#torch.utils.data.DataLoader), it will handle batching, shuffling, and other dataset iteration functions.\n",
        "\n",
        "You can create data with TensorDataset by passing in feature and target tensors. Then create a DataLoader as usual.\n",
        "```\n",
        "data = TensorDataset(feature_tensors, target_tensors)\n",
        "data_loader = torch.utils.data.DataLoader(data, \n",
        "                                          batch_size=batch_size)\n",
        "```\n",
        "\n",
        "### Batching\n",
        "Implement the `batch_data` function to batch `words` data into chunks of size `batch_size` using the `TensorDataset` and `DataLoader` classes.\n",
        "\n",
        ">You can batch words using the DataLoader, but it will be up to you to create `feature_tensors` and `target_tensors` of the correct size and content for a given `sequence_length`.\n",
        "\n",
        "For example, say we have these as input:\n",
        "```\n",
        "words = [1, 2, 3, 4, 5, 6, 7]\n",
        "sequence_length = 4\n",
        "```\n",
        "\n",
        "Your first `feature_tensor` should contain the values:\n",
        "```\n",
        "[1, 2, 3, 4]\n",
        "```\n",
        "And the corresponding `target_tensor` should just be the next \"word\"/tokenized word value:\n",
        "```\n",
        "5\n",
        "```\n",
        "This should continue with the second `feature_tensor`, `target_tensor` being:\n",
        "```\n",
        "[2, 3, 4, 5]  # features\n",
        "6             # target\n",
        "```"
      ]
    },
    {
      "cell_type": "code",
      "metadata": {
        "id": "Of_DLM0uZdgd",
        "colab_type": "code",
        "outputId": "b2f60aaa-a4f0-4fef-c7a4-f7cc90a0e08a",
        "colab": {
          "base_uri": "https://localhost:8080/",
          "height": 87
        }
      },
      "source": [
        "from tqdm import tqdm\n",
        "from torch.utils.data import TensorDataset, DataLoader\n",
        "\n",
        "def batch_data(words, sequence_length, batch_size):\n",
        "    \"\"\"\n",
        "    Batch the neural network data using DataLoader\n",
        "    :param words: The word ids of the TV scripts\n",
        "    :param sequence_length: The sequence length of each batch\n",
        "    :param batch_size: The size of each batch; the number of sequences in a batch\n",
        "    :return: DataLoader with batched data\n",
        "    \"\"\"\n",
        "    n_batches = len(words)//batch_size\n",
        "    words = words[:n_batches*batch_size] # keep only full batches count of words\n",
        "    \n",
        "    target_len = len(words) - sequence_length\n",
        "    \n",
        "    x, y = [], []\n",
        "    for idx in range(0, target_len):\n",
        "        idx_end = sequence_length + idx\n",
        "        batch_x = words[idx:idx_end]\n",
        "        x.append(batch_x)\n",
        "        batch_y =  words[idx_end]\n",
        "        y.append(batch_y)    \n",
        "\n",
        "    feature_tensors = torch.from_numpy(np.asarray(x))\n",
        "    target_tensors = torch.from_numpy(np.asarray(y))\n",
        "    data = TensorDataset(feature_tensors, target_tensors)\n",
        "    data_loader = DataLoader(data, shuffle=True, batch_size=batch_size)\n",
        "\n",
        "    return data_loader \n",
        "\n",
        "\n",
        "\n",
        "# there is no test for this function, but you are encouraged to create\n",
        "# print statements and tests of your own\n",
        "\n",
        "test_loader = batch_data([1,2,3,4,5,6,7,8], 3, 3)\n",
        "features, targets = next(iter(test_loader))\n",
        "print(f'features = {features}, shape = {features.shape}')\n",
        "print(f'targets = {targets}, shape = {targets.shape}')\n"
      ],
      "execution_count": 13,
      "outputs": [
        {
          "output_type": "stream",
          "text": [
            "features = tensor([[3, 4, 5],\n",
            "        [2, 3, 4],\n",
            "        [1, 2, 3]]), shape = torch.Size([3, 3])\n",
            "targets = tensor([6, 5, 4]), shape = torch.Size([3])\n"
          ],
          "name": "stdout"
        }
      ]
    },
    {
      "cell_type": "markdown",
      "metadata": {
        "id": "YXD8HrFZZdgf",
        "colab_type": "text"
      },
      "source": [
        "### Test your dataloader \n",
        "\n",
        "You'll have to modify this code to test a batching function, but it should look fairly similar.\n",
        "\n",
        "Below, we're generating some test text data and defining a dataloader using the function you defined, above. Then, we are getting some sample batch of inputs `sample_x` and targets `sample_y` from our dataloader.\n",
        "\n",
        "Your code should return something like the following (likely in a different order, if you shuffled your data):\n",
        "\n",
        "```\n",
        "torch.Size([10, 5])\n",
        "tensor([[ 28,  29,  30,  31,  32],\n",
        "        [ 21,  22,  23,  24,  25],\n",
        "        [ 17,  18,  19,  20,  21],\n",
        "        [ 34,  35,  36,  37,  38],\n",
        "        [ 11,  12,  13,  14,  15],\n",
        "        [ 23,  24,  25,  26,  27],\n",
        "        [  6,   7,   8,   9,  10],\n",
        "        [ 38,  39,  40,  41,  42],\n",
        "        [ 25,  26,  27,  28,  29],\n",
        "        [  7,   8,   9,  10,  11]])\n",
        "\n",
        "torch.Size([10])\n",
        "tensor([ 33,  26,  22,  39,  16,  28,  11,  43,  30,  12])\n",
        "```\n",
        "\n",
        "### Sizes\n",
        "Your sample_x should be of size `(batch_size, sequence_length)` or (10, 5) in this case and sample_y should just have one dimension: batch_size (10). \n",
        "\n",
        "### Values\n",
        "\n",
        "You should also notice that the targets, sample_y, are the *next* value in the ordered test_text data. So, for an input sequence `[ 28,  29,  30,  31,  32]` that ends with the value `32`, the corresponding output should be `33`."
      ]
    },
    {
      "cell_type": "code",
      "metadata": {
        "id": "3QpW48IZZdgg",
        "colab_type": "code",
        "outputId": "fe87d159-a7e3-4a14-82ec-2337f9b454df",
        "colab": {
          "base_uri": "https://localhost:8080/",
          "height": 265
        }
      },
      "source": [
        "# test dataloader\n",
        "\n",
        "test_text = range(50)\n",
        "t_loader = batch_data(test_text, sequence_length=5, batch_size=10)\n",
        "\n",
        "data_iter = iter(t_loader)\n",
        "sample_x, sample_y = data_iter.next()\n",
        "\n",
        "print(sample_x.shape)\n",
        "print(sample_x)\n",
        "print()\n",
        "print(sample_y.shape)\n",
        "print(sample_y)"
      ],
      "execution_count": 14,
      "outputs": [
        {
          "output_type": "stream",
          "text": [
            "torch.Size([10, 5])\n",
            "tensor([[39, 40, 41, 42, 43],\n",
            "        [ 1,  2,  3,  4,  5],\n",
            "        [27, 28, 29, 30, 31],\n",
            "        [33, 34, 35, 36, 37],\n",
            "        [10, 11, 12, 13, 14],\n",
            "        [ 3,  4,  5,  6,  7],\n",
            "        [13, 14, 15, 16, 17],\n",
            "        [ 2,  3,  4,  5,  6],\n",
            "        [38, 39, 40, 41, 42],\n",
            "        [37, 38, 39, 40, 41]])\n",
            "\n",
            "torch.Size([10])\n",
            "tensor([44,  6, 32, 38, 15,  8, 18,  7, 43, 42])\n"
          ],
          "name": "stdout"
        }
      ]
    },
    {
      "cell_type": "markdown",
      "metadata": {
        "id": "MzUsW4zaZdgi",
        "colab_type": "text"
      },
      "source": [
        "---\n",
        "## Build the Neural Network\n",
        "Implement an RNN using PyTorch's [Module class](http://pytorch.org/docs/master/nn.html#torch.nn.Module). You may choose to use a GRU or an LSTM. To complete the RNN, you'll have to implement the following functions for the class:\n",
        " - `__init__` - The initialize function. \n",
        " - `init_hidden` - The initialization function for an LSTM/GRU hidden state\n",
        " - `forward` - Forward propagation function.\n",
        " \n",
        "The initialize function should create the layers of the neural network and save them to the class. The forward propagation function will use these layers to run forward propagation and generate an output and a hidden state.\n",
        "\n",
        "**The output of this model should be the *last* batch of word scores** after a complete sequence has been processed. That is, for each input sequence of words, we only want to output the word scores for a single, most likely, next word.\n",
        "\n",
        "### Hints\n",
        "\n",
        "1. Make sure to stack the outputs of the lstm to pass to your fully-connected layer, you can do this with `lstm_output = lstm_output.contiguous().view(-1, self.hidden_dim)`\n",
        "2. You can get the last batch of word scores by shaping the output of the final, fully-connected layer like so:\n",
        "\n",
        "```\n",
        "# reshape into (batch_size, seq_length, output_size)\n",
        "output = output.view(batch_size, -1, self.output_size)\n",
        "# get last batch\n",
        "out = output[:, -1]\n",
        "```"
      ]
    },
    {
      "cell_type": "code",
      "metadata": {
        "id": "RAn9_thW_odx",
        "colab_type": "code",
        "colab": {}
      },
      "source": [
        "def one_hot_encode(nn_input, n_features):\n",
        "  \"\"\"\n",
        "  Each input integer (converted from character) is converted into a column \n",
        "  vector where only it's corresponding integer index will have the value of 1 \n",
        "  and the rest of the vector will be filled with 0's.\n",
        "  \"\"\"\n",
        "  # initialize encoded array\n",
        "  one_hot = np.zeros((np.multiply(*nn_input.shape), n_features), dtype=np.float32)\n",
        "  # convert to tensor\n",
        "  one_hot = torch.from_numpy(one_hot)  \n",
        "  if(train_on_gpu):\n",
        "    one_hot = one_hot.cuda()\n",
        "  # populate 1s input integers\n",
        "  one_hot[np.arange(one_hot.shape[0]), nn_input.flatten().long()] = 1.\n",
        "  # reshape to original size\n",
        "  one_hot = one_hot.reshape((*nn_input.shape, n_features))\n",
        "  \n",
        "\n",
        "    \n",
        "  return one_hot\n",
        "\n",
        "\n",
        "  "
      ],
      "execution_count": 0,
      "outputs": []
    },
    {
      "cell_type": "code",
      "metadata": {
        "id": "mbrauQj3Zdgj",
        "colab_type": "code",
        "outputId": "6776ace4-813a-4699-b8dc-5acfdb0c4c7c",
        "colab": {
          "base_uri": "https://localhost:8080/",
          "height": 34
        }
      },
      "source": [
        "import torch.nn as nn\n",
        "\n",
        "class RNN(nn.Module):\n",
        "    \n",
        "    def __init__(self, vocab_size, output_size, embedding_dim, hidden_dim, n_layers, dropout=0.5, use_one_hot=False):\n",
        "        \"\"\"\n",
        "        Initialize the PyTorch RNN Module\n",
        "        :param vocab_size: The number of input dimensions of the neural network (the size of the vocabulary)\n",
        "        :param output_size: The number of output dimensions of the neural network\n",
        "        :param embedding_dim: The size of embeddings, should you choose to use them        \n",
        "        :param hidden_dim: The size of the hidden layer outputs\n",
        "        :param dropout: dropout to add in between LSTM/GRU layers\n",
        "        \"\"\"\n",
        "        super(RNN, self).__init__()\n",
        "        # DONE: Implement function\n",
        "        \n",
        "        # set class variables\n",
        "        self.vocab_size = vocab_size\n",
        "        self.output_size = output_size\n",
        "        self.embedding_dim = embedding_dim\n",
        "        self.hidden_dim = hidden_dim\n",
        "        self.n_layers = n_layers\n",
        "        self.use_one_hot = use_one_hot\n",
        "        \n",
        "        # define model layers\n",
        "        if(use_one_hot):\n",
        "          self.lstm = nn.LSTM(vocab_size, hidden_dim, n_layers, dropout=dropout, batch_first=True)\n",
        "        else:  \n",
        "          self.embeds = nn.Embedding(vocab_size, embedding_dim)\n",
        "          self.lstm = nn.LSTM(embedding_dim, hidden_dim, n_layers, dropout=dropout, batch_first=True)\n",
        "          \n",
        "        self.dropout = nn.Dropout(dropout)\n",
        "        self.fc = nn.Linear(hidden_dim, output_size)\n",
        "    \n",
        "    \n",
        "    def forward(self, nn_input, hidden):\n",
        "        \"\"\"\n",
        "        Forward propagation of the neural network\n",
        "        :param nn_input: The input to the neural network\n",
        "        :param hidden: The hidden state        \n",
        "        :return: Two Tensors, the output of the neural network and the latest hidden state\n",
        "        \"\"\"\n",
        "        # DONE: Implement function  \n",
        "        \n",
        "        batch_size = nn_input.shape[0]\n",
        "        \n",
        "        if(self.use_one_hot):\n",
        "          # one-hot encode the input\n",
        "          nn_input = one_hot_encode(nn_input, self.vocab_size)\n",
        "        else:\n",
        "          # use word emdeddings\n",
        "          nn_input = self.embeds(nn_input)    \n",
        "                    \n",
        "        # get output from LSTM\n",
        "        lstm_output, hidden = self.lstm(nn_input, hidden)\n",
        "              \n",
        "        # pass through dropout layer\n",
        "        lstm_output = self.dropout(lstm_output)\n",
        "        \n",
        "        # stack up LSTM outputs\n",
        "        lstm_output = lstm_output.contiguous().view(-1, self.hidden_dim) \n",
        "        \n",
        "        # pass through fully connected layer\n",
        "        output = self.fc(lstm_output)        \n",
        "        \n",
        "        # reshape into (batch_size, seq_length, output_size)\n",
        "        output = output.view(batch_size, -1, self.output_size)\n",
        "        \n",
        "        # get last batch\n",
        "        output = output[:, -1]\n",
        "        \n",
        "        # return one batch of output word scores and the hidden state\n",
        "        return output, hidden\n",
        "    \n",
        "    \n",
        "    def init_hidden(self, batch_size):\n",
        "        '''\n",
        "        Initialize the hidden state of an LSTM/GRU\n",
        "        :param batch_size: The batch_size of the hidden state\n",
        "        :return: hidden state of dims (n_layers, batch_size, hidden_dim)\n",
        "        '''\n",
        "        # Implement function\n",
        "        weight = next(self.parameters()).data\n",
        "        \n",
        "        # initialize hidden state with zero weights, and move to GPU if available\n",
        "        if(train_on_gpu):\n",
        "          hidden = (\n",
        "              weight.new(self.n_layers, batch_size, self.hidden_dim).zero_().cuda(),\n",
        "              weight.new(self.n_layers, batch_size, self.hidden_dim).zero_().cuda()\n",
        "          )\n",
        "        else:\n",
        "          hidden = (\n",
        "              weight.new(self.n_layers, batch_size, self.hidden_dim).zero_(),\n",
        "              weight.new(self.n_layers, batch_size, self.hidden_dim).zero_()\n",
        "          )\n",
        "          \n",
        "        return hidden\n",
        "      \n",
        "\n",
        "\"\"\"\n",
        "DON'T MODIFY ANYTHING IN THIS CELL THAT IS BELOW THIS LINE\n",
        "\"\"\"\n",
        "tests.test_rnn(RNN, train_on_gpu)"
      ],
      "execution_count": 16,
      "outputs": [
        {
          "output_type": "stream",
          "text": [
            "Tests Passed\n"
          ],
          "name": "stdout"
        }
      ]
    },
    {
      "cell_type": "markdown",
      "metadata": {
        "id": "TY-ugkbWZdgq",
        "colab_type": "text"
      },
      "source": [
        "### Define forward and backpropagation\n",
        "\n",
        "Use the RNN class you implemented to apply forward and back propagation. This function will be called, iteratively, in the training loop as follows:\n",
        "```\n",
        "loss = forward_back_prop(decoder, decoder_optimizer, criterion, inp, target)\n",
        "```\n",
        "\n",
        "And it should return the average loss over a batch and the hidden state returned by a call to `RNN(inp, hidden)`. Recall that you can get this loss by computing it, as usual, and calling `loss.item()`.\n",
        "\n",
        "**If a GPU is available, you should move your data to that GPU device, here.**"
      ]
    },
    {
      "cell_type": "code",
      "metadata": {
        "id": "ufy8q3L1Zdgq",
        "colab_type": "code",
        "outputId": "5a5e8965-ce83-42bd-e02f-08a2191bed9c",
        "colab": {
          "base_uri": "https://localhost:8080/",
          "height": 34
        }
      },
      "source": [
        "def forward_back_prop(rnn, optimizer, criterion, inp, target, hidden):\n",
        "    \"\"\"\n",
        "    Forward and backward propagation on the neural network\n",
        "    :param rnn: The PyTorch Module that holds the neural network\n",
        "    :param optimizer: The PyTorch optimizer for the neural network\n",
        "    :param criterion: The PyTorch loss function\n",
        "    :param inp: A batch of input to the neural network\n",
        "    :param target: The target output for the batch of input\n",
        "    :return: The loss and the latest hidden state Tensor\n",
        "    \"\"\"\n",
        "    \n",
        "    # DONE: Implement Function\n",
        "    \n",
        "    # move data to GPU, if available\n",
        "    if(train_on_gpu):\n",
        "      rnn.cuda()\n",
        "      inp, target = inp.cuda(), target.cuda()\n",
        "    \n",
        "    # Creating new variables for the hidden state, otherwise\n",
        "    # we'd backprop through the entire training history\n",
        "    h = tuple([each.data for each in hidden])\n",
        "    \n",
        "    # perform backpropagation and optimization\n",
        "    rnn.zero_grad()\n",
        "    output, h = rnn(inp, h)\n",
        "    loss = criterion(output, target)\n",
        "    loss.backward() \n",
        "    # prevent exploding gradient\n",
        "    nn.utils.clip_grad_norm_(rnn.parameters(), 5)\n",
        "    optimizer.step()\n",
        "    \n",
        "\n",
        "    # return the loss over a batch and the hidden state produced by our model\n",
        "    return loss.item(), h\n",
        "\n",
        "# Note that these tests aren't completely extensive.\n",
        "# they are here to act as general checks on the expected outputs of your functions\n",
        "\"\"\"\n",
        "DON'T MODIFY ANYTHING IN THIS CELL THAT IS BELOW THIS LINE\n",
        "\"\"\"\n",
        "tests.test_forward_back_prop(RNN, forward_back_prop, train_on_gpu)"
      ],
      "execution_count": 17,
      "outputs": [
        {
          "output_type": "stream",
          "text": [
            "Tests Passed\n"
          ],
          "name": "stdout"
        }
      ]
    },
    {
      "cell_type": "markdown",
      "metadata": {
        "id": "c7hLn69kZdgt",
        "colab_type": "text"
      },
      "source": [
        "## Neural Network Training\n",
        "\n",
        "With the structure of the network complete and data ready to be fed in the neural network, it's time to train it.\n",
        "\n",
        "### Train Loop\n",
        "\n",
        "The training loop is implemented for you in the `train_decoder` function. This function will train the network over all the batches for the number of epochs given. The model progress will be shown every number of batches. This number is set with the `show_every_n_batches` parameter. You'll set this parameter along with other parameters in the next section."
      ]
    },
    {
      "cell_type": "code",
      "metadata": {
        "id": "yWzigC59Zdgt",
        "colab_type": "code",
        "colab": {}
      },
      "source": [
        "\"\"\"\n",
        "DON'T MODIFY ANYTHING IN THIS CELL\n",
        "\"\"\"\n",
        "\n",
        "def train_rnn(rnn, batch_size, optimizer, criterion, n_epochs, show_every_n_batches=100):\n",
        "    batch_losses = []\n",
        "    \n",
        "    rnn.train()\n",
        "\n",
        "    print(\"Training for %d epoch(s)...\" % n_epochs)\n",
        "    for epoch_i in range(1, n_epochs + 1):\n",
        "        \n",
        "        # initialize hidden state\n",
        "        hidden = rnn.init_hidden(batch_size)\n",
        "        \n",
        "        for batch_i, (inputs, labels) in enumerate(train_loader, 1):\n",
        "            \n",
        "            # make sure you iterate over completely full batches, only\n",
        "            n_batches = len(train_loader.dataset)//batch_size\n",
        "            if(batch_i > n_batches):\n",
        "                break\n",
        "            \n",
        "            # forward, back prop\n",
        "            loss, hidden = forward_back_prop(rnn, optimizer, criterion, inputs, labels, hidden)          \n",
        "            # record loss\n",
        "            batch_losses.append(loss)\n",
        "\n",
        "            # printing loss stats\n",
        "            if batch_i % show_every_n_batches == 0:\n",
        "                print('Epoch: {:>4}/{:<4}  Loss: {}\\n'.format(\n",
        "                    epoch_i, n_epochs, np.average(batch_losses)))\n",
        "                batch_losses = []\n",
        "\n",
        "    # returns a trained rnn\n",
        "    return rnn"
      ],
      "execution_count": 0,
      "outputs": []
    },
    {
      "cell_type": "markdown",
      "metadata": {
        "id": "BPDY3BDKZdgw",
        "colab_type": "text"
      },
      "source": [
        "### Hyperparameters\n",
        "\n",
        "Set and train the neural network with the following parameters:\n",
        "- Set `sequence_length` to the length of a sequence.\n",
        "- Set `batch_size` to the batch size.\n",
        "- Set `num_epochs` to the number of epochs to train for.\n",
        "- Set `learning_rate` to the learning rate for an Adam optimizer.\n",
        "- Set `vocab_size` to the number of unique tokens in our vocabulary.\n",
        "- Set `output_size` to the desired size of the output.\n",
        "- Set `embedding_dim` to the embedding dimension; smaller than the vocab_size.\n",
        "- Set `hidden_dim` to the hidden dimension of your RNN.\n",
        "- Set `n_layers` to the number of layers/cells in your RNN.\n",
        "- Set `show_every_n_batches` to the number of batches at which the neural network should print progress.\n",
        "\n",
        "If the network isn't getting the desired results, tweak these parameters and/or the layers in the `RNN` class."
      ]
    },
    {
      "cell_type": "code",
      "metadata": {
        "id": "h32ej2HyZdgx",
        "colab_type": "code",
        "colab": {}
      },
      "source": [
        "# Data params\n",
        "# Sequence Length\n",
        "sequence_length = 10  # of words in a sequence\n",
        "# Batch Size\n",
        "batch_size = 128\n",
        "\n",
        "# data loader - do not change\n",
        "train_loader = batch_data(int_text, sequence_length, batch_size)"
      ],
      "execution_count": 0,
      "outputs": []
    },
    {
      "cell_type": "code",
      "metadata": {
        "id": "VpgBC4V8Zdgz",
        "colab_type": "code",
        "colab": {}
      },
      "source": [
        "# Training parameters\n",
        "# Number of Epochs\n",
        "num_epochs = 30\n",
        "# Learning Rate\n",
        "learning_rate = 0.001\n",
        "\n",
        "# Model parameters\n",
        "# Vocab size\n",
        "vocab_size = len(vocab_to_int)\n",
        "# Output size\n",
        "output_size = vocab_size\n",
        "# Embedding Dimension\n",
        "embedding_dim = 100\n",
        "# Hidden Dimension\n",
        "hidden_dim = 500\n",
        "# Number of RNN Layers\n",
        "n_layers = 2\n",
        "\n",
        "# Show stats for every n number of batches\n",
        "show_every_n_batches = 2000"
      ],
      "execution_count": 0,
      "outputs": []
    },
    {
      "cell_type": "markdown",
      "metadata": {
        "id": "omvgLGAPZdg3",
        "colab_type": "text"
      },
      "source": [
        "### Train\n",
        "In the next cell, you'll train the neural network on the pre-processed data.  If you have a hard time getting a good loss, you may consider changing your hyperparameters. In general, you may get better results with larger hidden and n_layer dimensions, but larger models take a longer time to train. \n",
        "> **You should aim for a loss less than 3.5.** \n",
        "\n",
        "You should also experiment with different sequence lengths, which determine the size of the long range dependencies that a model can learn."
      ]
    },
    {
      "cell_type": "code",
      "metadata": {
        "id": "7ps6ckeQbFiL",
        "colab_type": "code",
        "outputId": "2c8eca55-bb92-4fcc-c154-9b6bdc8283fc",
        "colab": {
          "base_uri": "https://localhost:8080/",
          "height": 34
        }
      },
      "source": [
        "import time\n",
        "import datetime\n",
        "\n",
        "start = datetime.datetime.now()\n",
        "print(f'training start = {start}')"
      ],
      "execution_count": 21,
      "outputs": [
        {
          "output_type": "stream",
          "text": [
            "training start = 2019-05-19 06:08:39.011998\n"
          ],
          "name": "stdout"
        }
      ]
    },
    {
      "cell_type": "code",
      "metadata": {
        "id": "nsh3zuZ-Zdg4",
        "colab_type": "code",
        "outputId": "6af0670f-d4ae-44de-d74b-7e2cb9e0114e",
        "colab": {
          "base_uri": "https://localhost:8080/",
          "height": 3307
        }
      },
      "source": [
        "\"\"\"\n",
        "DON'T MODIFY ANYTHING IN THIS CELL\n",
        "\"\"\"\n",
        "\n",
        "# create model and move to gpu if available\n",
        "rnn = RNN(vocab_size, output_size, embedding_dim, hidden_dim, n_layers, dropout=0.5)\n",
        "if train_on_gpu:\n",
        "    rnn.cuda()\n",
        "\n",
        "# defining loss and optimization functions for training\n",
        "optimizer = torch.optim.Adam(rnn.parameters(), lr=learning_rate)\n",
        "criterion = nn.CrossEntropyLoss()\n",
        "\n",
        "# training the model\n",
        "trained_rnn = train_rnn(rnn, batch_size, optimizer, criterion, num_epochs, show_every_n_batches)\n",
        "\n",
        "# saving the trained model\n",
        "helper.save_model('./save/trained_rnn', trained_rnn)\n",
        "print('Model Trained and Saved')"
      ],
      "execution_count": 22,
      "outputs": [
        {
          "output_type": "stream",
          "text": [
            "Training for 30 epoch(s)...\n",
            "Epoch:    1/30    Loss: 4.971810361504555\n",
            "\n",
            "Epoch:    1/30    Loss: 4.53180609023571\n",
            "\n",
            "Epoch:    1/30    Loss: 4.390304063916206\n",
            "\n",
            "Epoch:    2/30    Loss: 4.241339103632539\n",
            "\n",
            "Epoch:    2/30    Loss: 4.170530102729797\n",
            "\n",
            "Epoch:    2/30    Loss: 4.148419406414032\n",
            "\n",
            "Epoch:    3/30    Loss: 4.054413627180449\n",
            "\n",
            "Epoch:    3/30    Loss: 4.01629054236412\n",
            "\n",
            "Epoch:    3/30    Loss: 4.033845766663552\n",
            "\n",
            "Epoch:    4/30    Loss: 3.9607913354336413\n",
            "\n",
            "Epoch:    4/30    Loss: 3.9422248556613924\n",
            "\n",
            "Epoch:    4/30    Loss: 3.9549559024572374\n",
            "\n",
            "Epoch:    5/30    Loss: 3.888913937656063\n",
            "\n",
            "Epoch:    5/30    Loss: 3.8765443363189696\n",
            "\n",
            "Epoch:    5/30    Loss: 3.8966335982084273\n",
            "\n",
            "Epoch:    6/30    Loss: 3.8547564251724924\n",
            "\n",
            "Epoch:    6/30    Loss: 3.8253948656320573\n",
            "\n",
            "Epoch:    6/30    Loss: 3.85394917011261\n",
            "\n",
            "Epoch:    7/30    Loss: 3.8012771355816617\n",
            "\n",
            "Epoch:    7/30    Loss: 3.7962595797777174\n",
            "\n",
            "Epoch:    7/30    Loss: 3.814275594472885\n",
            "\n",
            "Epoch:    8/30    Loss: 3.7679745509939373\n",
            "\n",
            "Epoch:    8/30    Loss: 3.7514023823738096\n",
            "\n",
            "Epoch:    8/30    Loss: 3.7908415608406067\n",
            "\n",
            "Epoch:    9/30    Loss: 3.7337780676762047\n",
            "\n",
            "Epoch:    9/30    Loss: 3.7320219480991366\n",
            "\n",
            "Epoch:    9/30    Loss: 3.752958303809166\n",
            "\n",
            "Epoch:   10/30    Loss: 3.7020852691079726\n",
            "\n",
            "Epoch:   10/30    Loss: 3.7181865943670274\n",
            "\n",
            "Epoch:   10/30    Loss: 3.7185298521518706\n",
            "\n",
            "Epoch:   11/30    Loss: 3.6809941531834256\n",
            "\n",
            "Epoch:   11/30    Loss: 3.6836313605308533\n",
            "\n",
            "Epoch:   11/30    Loss: 3.695613301873207\n",
            "\n",
            "Epoch:   12/30    Loss: 3.6618412900967097\n",
            "\n",
            "Epoch:   12/30    Loss: 3.6595423177480697\n",
            "\n",
            "Epoch:   12/30    Loss: 3.6818570578098297\n",
            "\n",
            "Epoch:   13/30    Loss: 3.6360937541707186\n",
            "\n",
            "Epoch:   13/30    Loss: 3.6450552960634233\n",
            "\n",
            "Epoch:   13/30    Loss: 3.659603839755058\n",
            "\n",
            "Epoch:   14/30    Loss: 3.6166500476492702\n",
            "\n",
            "Epoch:   14/30    Loss: 3.6204815965890886\n",
            "\n",
            "Epoch:   14/30    Loss: 3.6455363515615464\n",
            "\n",
            "Epoch:   15/30    Loss: 3.5946075178863546\n",
            "\n",
            "Epoch:   15/30    Loss: 3.609465613722801\n",
            "\n",
            "Epoch:   15/30    Loss: 3.6333267798423767\n",
            "\n",
            "Epoch:   16/30    Loss: 3.5811515782239303\n",
            "\n",
            "Epoch:   16/30    Loss: 3.5851739085912704\n",
            "\n",
            "Epoch:   16/30    Loss: 3.6082896305322647\n",
            "\n",
            "Epoch:   17/30    Loss: 3.5725213204914668\n",
            "\n",
            "Epoch:   17/30    Loss: 3.5700561205148698\n",
            "\n",
            "Epoch:   17/30    Loss: 3.5900463757514953\n",
            "\n",
            "Epoch:   18/30    Loss: 3.556221246317712\n",
            "\n",
            "Epoch:   18/30    Loss: 3.5501322149038317\n",
            "\n",
            "Epoch:   18/30    Loss: 3.585407163143158\n",
            "\n",
            "Epoch:   19/30    Loss: 3.543827635258677\n",
            "\n",
            "Epoch:   19/30    Loss: 3.5411775832176207\n",
            "\n",
            "Epoch:   19/30    Loss: 3.5634542235136033\n",
            "\n",
            "Epoch:   20/30    Loss: 3.526508349614002\n",
            "\n",
            "Epoch:   20/30    Loss: 3.527721130490303\n",
            "\n",
            "Epoch:   20/30    Loss: 3.55568502676487\n",
            "\n",
            "Epoch:   21/30    Loss: 3.5112394539493756\n",
            "\n",
            "Epoch:   21/30    Loss: 3.518109767794609\n",
            "\n",
            "Epoch:   21/30    Loss: 3.548069906592369\n",
            "\n",
            "Epoch:   22/30    Loss: 3.4960128873827645\n",
            "\n",
            "Epoch:   22/30    Loss: 3.508122974038124\n",
            "\n",
            "Epoch:   22/30    Loss: 3.5300681046247484\n",
            "\n",
            "Epoch:   23/30    Loss: 3.494443146767963\n",
            "\n",
            "Epoch:   23/30    Loss: 3.4895670084953307\n",
            "\n",
            "Epoch:   23/30    Loss: 3.512937245130539\n",
            "\n",
            "Epoch:   24/30    Loss: 3.4836738989198945\n",
            "\n",
            "Epoch:   24/30    Loss: 3.4818962264060973\n",
            "\n",
            "Epoch:   24/30    Loss: 3.5031096773147583\n",
            "\n",
            "Epoch:   25/30    Loss: 3.467068597634205\n",
            "\n",
            "Epoch:   25/30    Loss: 3.4749023206233978\n",
            "\n",
            "Epoch:   25/30    Loss: 3.5018842824697494\n",
            "\n",
            "Epoch:   26/30    Loss: 3.453046123534843\n",
            "\n",
            "Epoch:   26/30    Loss: 3.4638261946439743\n",
            "\n",
            "Epoch:   26/30    Loss: 3.481328267812729\n",
            "\n",
            "Epoch:   27/30    Loss: 3.4478623152100494\n",
            "\n",
            "Epoch:   27/30    Loss: 3.4527829463481905\n",
            "\n",
            "Epoch:   27/30    Loss: 3.4756783133745195\n",
            "\n",
            "Epoch:   28/30    Loss: 3.435914843390894\n",
            "\n",
            "Epoch:   28/30    Loss: 3.4441748803853987\n",
            "\n",
            "Epoch:   28/30    Loss: 3.466178867459297\n",
            "\n",
            "Epoch:   29/30    Loss: 3.427366353430838\n",
            "\n",
            "Epoch:   29/30    Loss: 3.433965418457985\n",
            "\n",
            "Epoch:   29/30    Loss: 3.467811361312866\n",
            "\n",
            "Epoch:   30/30    Loss: 3.4165761784080546\n",
            "\n",
            "Epoch:   30/30    Loss: 3.4285495665073396\n",
            "\n",
            "Epoch:   30/30    Loss: 3.4575046681165693\n",
            "\n",
            "Model Trained and Saved\n"
          ],
          "name": "stdout"
        },
        {
          "output_type": "stream",
          "text": [
            "/usr/local/lib/python3.6/dist-packages/torch/serialization.py:256: UserWarning: Couldn't retrieve source code for container of type RNN. It won't be checked for correctness upon loading.\n",
            "  \"type \" + obj.__name__ + \". It won't be checked \"\n"
          ],
          "name": "stderr"
        }
      ]
    },
    {
      "cell_type": "code",
      "metadata": {
        "id": "68jb51_0d08s",
        "colab_type": "code",
        "outputId": "64736991-7131-4059-b9a2-b3532b38e96c",
        "colab": {
          "base_uri": "https://localhost:8080/",
          "height": 52
        }
      },
      "source": [
        "end = datetime.datetime.now()\n",
        "print(f'training end = {end}')\n",
        "print(f'runtime = {end - start}')"
      ],
      "execution_count": 23,
      "outputs": [
        {
          "output_type": "stream",
          "text": [
            "training end = 2019-05-19 08:32:33.884654\n",
            "runtime = 2:23:54.872656\n"
          ],
          "name": "stdout"
        }
      ]
    },
    {
      "cell_type": "markdown",
      "metadata": {
        "id": "7IdSD9QTZdg-",
        "colab_type": "text"
      },
      "source": [
        "### Question: How did you decide on your model hyperparameters? \n",
        "For example, did you try different sequence_lengths and find that one size made the model converge faster? What about your hidden_dim and n_layers; how did you decide on those?"
      ]
    },
    {
      "cell_type": "markdown",
      "metadata": {
        "id": "bkiRDyO-Zdg_",
        "colab_type": "text"
      },
      "source": [
        "**Answer:** (Write answer, here)\n",
        "\n",
        "*Sequence Length*\n",
        "\n",
        "I've tried various sequence lengths (10, 13, 15, 20, 50). Even though larger sequence length seems to coverge faster, but only by a very small amount. For example, in my case, at epoch 2, loss = 4.15 for sequence length of 10; while loss = 4.12 for sequence length of 50, but it runs about 3x slower. So I reverted back to sequence length of 10 for faster speed.\n",
        "\n",
        "*Batch Size*\n",
        "\n",
        "According to the lesson, the optimum batch size is between 32, 64, and 128. \n",
        "\n",
        "From my testing, at epoch 2, loss = 4.15 for batch_size = 128 ; while loss = 4.17 for batch_size = 64. So setting batch size to 128 seems to be the best choice.\n",
        "\n",
        "*Hidden Dimension*\n",
        "\n",
        "This one plays the most important role on the convergence from my testing. I've tuned it from 40 to 400 to get the best convergence result.\n",
        "\n",
        "\n",
        "\n"
      ]
    },
    {
      "cell_type": "markdown",
      "metadata": {
        "id": "Jno6zVw-ZdhC",
        "colab_type": "text"
      },
      "source": [
        "---\n",
        "# Checkpoint\n",
        "\n",
        "After running the above training cell, your model will be saved by name, `trained_rnn`, and if you save your notebook progress, **you can pause here and come back to this code at another time**. You can resume your progress by running the next cell, which will load in our word:id dictionaries _and_ load in your saved model by name!"
      ]
    },
    {
      "cell_type": "code",
      "metadata": {
        "id": "PhYIEpCEZdhD",
        "colab_type": "code",
        "colab": {}
      },
      "source": [
        "\"\"\"\n",
        "DON'T MODIFY ANYTHING IN THIS CELL\n",
        "\"\"\"\n",
        "import torch\n",
        "import helper\n",
        "import problem_unittests as tests\n",
        "\n",
        "_, vocab_to_int, int_to_vocab, token_dict = helper.load_preprocess()\n",
        "trained_rnn = helper.load_model('./save/trained_rnn')"
      ],
      "execution_count": 0,
      "outputs": []
    },
    {
      "cell_type": "markdown",
      "metadata": {
        "id": "S89lTyxGZdhH",
        "colab_type": "text"
      },
      "source": [
        "## Generate TV Script\n",
        "With the network trained and saved, you'll use it to generate a new, \"fake\" Seinfeld TV script in this section.\n",
        "\n",
        "### Generate Text\n",
        "To generate the text, the network needs to start with a single word and repeat its predictions until it reaches a set length. You'll be using the `generate` function to do this. It takes a word id to start with, `prime_id`, and generates a set length of text, `predict_len`. Also note that it uses topk sampling to introduce some randomness in choosing the most likely next word, given an output set of word scores!"
      ]
    },
    {
      "cell_type": "code",
      "metadata": {
        "id": "NoQUavhUZdhI",
        "colab_type": "code",
        "colab": {}
      },
      "source": [
        "\"\"\"\n",
        "DON'T MODIFY ANYTHING IN THIS CELL THAT IS BELOW THIS LINE\n",
        "\"\"\"\n",
        "import torch.nn.functional as F\n",
        "\n",
        "def generate(rnn, prime_id, int_to_vocab, token_dict, pad_value, predict_len=100):\n",
        "    \"\"\"\n",
        "    Generate text using the neural network\n",
        "    :param decoder: The PyTorch Module that holds the trained neural network\n",
        "    :param prime_id: The word id to start the first prediction\n",
        "    :param int_to_vocab: Dict of word id keys to word values\n",
        "    :param token_dict: Dict of puncuation tokens keys to puncuation values\n",
        "    :param pad_value: The value used to pad a sequence\n",
        "    :param predict_len: The length of text to generate\n",
        "    :return: The generated text\n",
        "    \"\"\"\n",
        "    rnn.eval()\n",
        "    \n",
        "    # create a sequence (batch_size=1) with the prime_id\n",
        "    current_seq = np.full((1, sequence_length), pad_value)\n",
        "    current_seq[-1][-1] = prime_id\n",
        "    predicted = [int_to_vocab[prime_id]]\n",
        "    \n",
        "    for _ in range(predict_len):\n",
        "        if train_on_gpu:\n",
        "            current_seq = torch.LongTensor(current_seq).cuda()\n",
        "        else:\n",
        "            current_seq = torch.LongTensor(current_seq)\n",
        "        \n",
        "        # initialize the hidden state\n",
        "        hidden = rnn.init_hidden(current_seq.size(0))\n",
        "        \n",
        "        # get the output of the rnn\n",
        "        output, _ = rnn(current_seq, hidden)\n",
        "        \n",
        "        # get the next word probabilities\n",
        "        p = F.softmax(output, dim=1).data\n",
        "        if(train_on_gpu):\n",
        "            p = p.cpu() # move to cpu\n",
        "            \n",
        "        # use top_k sampling to get the index of the next word\n",
        "        top_k = 5\n",
        "        p, top_i = p.topk(top_k)\n",
        "        top_i = top_i.numpy().squeeze()\n",
        "        \n",
        "        # select the likely next word index with some element of randomness\n",
        "        p = p.numpy().squeeze()\n",
        "        word_i = np.random.choice(top_i, p=p/p.sum())\n",
        "        \n",
        "        # retrieve that word from the dictionary\n",
        "        word = int_to_vocab[word_i]\n",
        "        predicted.append(word)     \n",
        "  \n",
        "        # fix - tensor needs to be copied to cpu memory for numpy operations\n",
        "        if(train_on_gpu):\n",
        "          current_seq = current_seq.cpu()\n",
        "        \n",
        "        # the generated word becomes the next \"current sequence\" and the cycle can continue\n",
        "        current_seq = np.roll(current_seq, -1, 1)\n",
        "        current_seq[-1][-1] = word_i\n",
        "        \n",
        "    gen_sentences = ' '.join(predicted)\n",
        "    \n",
        "    # Replace punctuation tokens\n",
        "    for key, token in token_dict.items():\n",
        "        ending = ' ' if key in ['\\n', '(', '\"'] else ''\n",
        "        gen_sentences = gen_sentences.replace(' ' + token.lower(), key)\n",
        "        \n",
        "    gen_sentences = gen_sentences.replace('\\n ', '\\n')\n",
        "    gen_sentences = gen_sentences.replace('( ', '(')\n",
        "    \n",
        "    # return all the sentences\n",
        "    return gen_sentences"
      ],
      "execution_count": 0,
      "outputs": []
    },
    {
      "cell_type": "markdown",
      "metadata": {
        "id": "B_wPAgLqZdhL",
        "colab_type": "text"
      },
      "source": [
        "### Generate a New Script\n",
        "It's time to generate the text. Set `gen_length` to the length of TV script you want to generate and set `prime_word` to one of the following to start the prediction:\n",
        "- \"jerry\"\n",
        "- \"elaine\"\n",
        "- \"george\"\n",
        "- \"kramer\"\n",
        "\n",
        "You can set the prime word to _any word_ in our dictionary, but it's best to start with a name for generating a TV script. (You can also start with any other names you find in the original text file!)"
      ]
    },
    {
      "cell_type": "code",
      "metadata": {
        "id": "Nv-vVOVlZdhN",
        "colab_type": "code",
        "outputId": "9123aa1a-c65f-4788-ea48-91c0a447df11",
        "colab": {
          "base_uri": "https://localhost:8080/",
          "height": 907
        }
      },
      "source": [
        "# run the cell multiple times to get different results!\n",
        "gen_length = 400 # modify the length to your preference\n",
        "prime_word = 'jerry' # name for starting the script\n",
        "\n",
        "    \n",
        "\"\"\"\n",
        "DON'T MODIFY ANYTHING IN THIS CELL THAT IS BELOW THIS LINE\n",
        "\"\"\"\n",
        "pad_word = helper.SPECIAL_WORDS['PADDING']\n",
        "\n",
        "# generated_script = generate(trained_rnn, vocab_to_int[prime_word + ':'], int_to_vocab, token_dict, vocab_to_int[pad_word], gen_length)\n",
        "generated_script = generate(rnn, vocab_to_int[prime_word + ':'], int_to_vocab, token_dict, vocab_to_int[pad_word], gen_length)\n",
        "print(generated_script)"
      ],
      "execution_count": 26,
      "outputs": [
        {
          "output_type": "stream",
          "text": [
            "jerry:.. i don't have a square to spare for the rest of my life.\n",
            "\n",
            "jerry: you know, the whole thing is the best of the most exciting people who ever ever seen, and you know what the big deal is..\n",
            "\n",
            "jerry:(to kramer) you know, i think i may have done this.\n",
            "\n",
            "elaine: oh my god.\n",
            "\n",
            "jerry: i know, i know. i know. i think i can get my keys.\n",
            "\n",
            "george: i know.\n",
            "\n",
            "jerry: i don't think so.\n",
            "\n",
            "george: you know what i mean? i think i can see the same.\n",
            "\n",
            "jerry: so you want to be the best.\n",
            "\n",
            "elaine: i know.\n",
            "\n",
            "jerry:(looking at the door) oh, you know what i think?\n",
            "\n",
            "jerry: i don't want to hear that.\n",
            "\n",
            "elaine: i know what you think?\n",
            "\n",
            "elaine: i don't know.... you know, i'm not gonna have to talk to you.\n",
            "\n",
            "jerry:(to george) you know, you got a big job. you want me to come up to the hospital?\n",
            "\n",
            "george: yeah, well, i don't want to talk to her.\n",
            "\n",
            "george: you know what i think about it?\n",
            "\n",
            "george: i don't think so.\n",
            "\n",
            "george: well, i was in the bathroom. i was wondering if it was a bad thing about the guy, i mean, you know, i have to go.(jerry looks at his watch)\n",
            "\n",
            "kramer:(to kramer) you see, i was thinking about this guy.\n",
            "\n",
            "morty:(to elaine) what about your father? i mean i don't want a job.\n",
            "\n",
            "kramer: yeah.\n",
            "\n",
            "jerry: what?\n",
            "\n",
            "kramer: well, i was just trying to get some kind of wine, and i got a date with her, but i can't get my stuff out. you know what i mean? i was just thinking of it.\n",
            "\n",
            "george:(to elaine)\n"
          ],
          "name": "stdout"
        }
      ]
    },
    {
      "cell_type": "markdown",
      "metadata": {
        "id": "8cGZoTJcZdhQ",
        "colab_type": "text"
      },
      "source": [
        "#### Save your favorite scripts\n",
        "\n",
        "Once you have a script that you like (or find interesting), save it to a text file!"
      ]
    },
    {
      "cell_type": "code",
      "metadata": {
        "id": "xCLpw8ooZdhR",
        "colab_type": "code",
        "colab": {}
      },
      "source": [
        "# save script to a text file\n",
        "f =  open(\"generated_script_1.txt\",\"w\")\n",
        "f.write(generated_script)\n",
        "f.close()"
      ],
      "execution_count": 0,
      "outputs": []
    },
    {
      "cell_type": "markdown",
      "metadata": {
        "id": "K6CwuGF0ZdhU",
        "colab_type": "text"
      },
      "source": [
        "# The TV Script is Not Perfect\n",
        "It's ok if the TV script doesn't make perfect sense. It should look like alternating lines of dialogue, here is one such example of a few generated lines.\n",
        "\n",
        "### Example generated script\n",
        "\n",
        ">jerry: what about me?\n",
        ">\n",
        ">jerry: i don't have to wait.\n",
        ">\n",
        ">kramer:(to the sales table)\n",
        ">\n",
        ">elaine:(to jerry) hey, look at this, i'm a good doctor.\n",
        ">\n",
        ">newman:(to elaine) you think i have no idea of this...\n",
        ">\n",
        ">elaine: oh, you better take the phone, and he was a little nervous.\n",
        ">\n",
        ">kramer:(to the phone) hey, hey, jerry, i don't want to be a little bit.(to kramer and jerry) you can't.\n",
        ">\n",
        ">jerry: oh, yeah. i don't even know, i know.\n",
        ">\n",
        ">jerry:(to the phone) oh, i know.\n",
        ">\n",
        ">kramer:(laughing) you know...(to jerry) you don't know.\n",
        "\n",
        "You can see that there are multiple characters that say (somewhat) complete sentences, but it doesn't have to be perfect! It takes quite a while to get good results, and often, you'll have to use a smaller vocabulary (and discard uncommon words), or get more data.  The Seinfeld dataset is about 3.4 MB, which is big enough for our purposes; for script generation you'll want more than 1 MB of text, generally. \n",
        "\n",
        "# Submitting This Project\n",
        "When submitting this project, make sure to run all the cells before saving the notebook. Save the notebook file as \"dlnd_tv_script_generation.ipynb\" and save another copy as an HTML file by clicking \"File\" -> \"Download as..\"->\"html\". Include the \"helper.py\" and \"problem_unittests.py\" files in your submission. Once you download these files, compress them into one zip file for submission."
      ]
    },
    {
      "cell_type": "code",
      "metadata": {
        "id": "2kK9GzAsZdhV",
        "colab_type": "code",
        "colab": {}
      },
      "source": [
        ""
      ],
      "execution_count": 0,
      "outputs": []
    }
  ]
}